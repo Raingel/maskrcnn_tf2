{
 "cells": [
  {
   "cell_type": "code",
   "execution_count": null,
   "metadata": {},
   "outputs": [],
   "source": [
    "from classification_models.keras import Classifiers\n",
    "import tensorflow as tf"
   ]
  },
  {
   "cell_type": "code",
   "execution_count": null,
   "metadata": {},
   "outputs": [],
   "source": [
    "from classification_models.models._common_blocks import ChannelSE\n",
    "from classification_models import get_submodules_from_kwargs\n",
    "from classification_models.weights import load_model_weights"
   ]
  },
  {
   "cell_type": "code",
   "execution_count": null,
   "metadata": {},
   "outputs": [],
   "source": [
    "from ._common_blocks import ChannelSE\n",
    "from .. import get_submodules_from_kwargs\n",
    "from ..weights import load_model_weights"
   ]
  },
  {
   "cell_type": "code",
   "execution_count": null,
   "metadata": {},
   "outputs": [],
   "source": [
    "model_mbnet, _ = Classifiers.get('mobilenet')"
   ]
  },
  {
   "cell_type": "code",
   "execution_count": null,
   "metadata": {},
   "outputs": [],
   "source": [
    "mbnet = model_mbnet(input_shape=(512, 512, 3), \n",
    "                    weights='imagenet', \n",
    "                    include_top=False)"
   ]
  },
  {
   "cell_type": "code",
   "execution_count": null,
   "metadata": {},
   "outputs": [],
   "source": [
    "mbnet.summary()"
   ]
  },
  {
   "cell_type": "code",
   "execution_count": null,
   "metadata": {},
   "outputs": [],
   "source": []
  },
  {
   "cell_type": "code",
   "execution_count": null,
   "metadata": {},
   "outputs": [],
   "source": [
    "# 256, 128, 64, 32"
   ]
  },
  {
   "cell_type": "code",
   "execution_count": null,
   "metadata": {},
   "outputs": [],
   "source": [
    "model_class, preprocess_input = Classifiers.get('resnet18')"
   ]
  },
  {
   "cell_type": "code",
   "execution_count": null,
   "metadata": {},
   "outputs": [],
   "source": [
    "model_class"
   ]
  },
  {
   "cell_type": "code",
   "execution_count": null,
   "metadata": {},
   "outputs": [],
   "source": [
    "model = model_class(input_shape=(512, 512, 3), \n",
    "                    weights=None, \n",
    "                    include_top=False)"
   ]
  },
  {
   "cell_type": "code",
   "execution_count": null,
   "metadata": {},
   "outputs": [],
   "source": [
    "model.summary()"
   ]
  },
  {
   "cell_type": "code",
   "execution_count": null,
   "metadata": {},
   "outputs": [],
   "source": []
  },
  {
   "cell_type": "markdown",
   "metadata": {},
   "source": [
    "Проверка разных backbones на адеватность на balloon dataset\n",
    "\n",
    "    backbone - frozen, imagenet weights\n",
    "    heads with leaky relu "
   ]
  },
  {
   "cell_type": "raw",
   "metadata": {},
   "source": [
    "'resnet18',         nans с TensorRT, странные маски \n",
    "'resnet34', \n",
    "'resnet50',\n",
    "'resnet101',\n",
    "'resnet152',\n",
    "\n",
    "'resnext50', \n",
    "'resnext101',\n",
    "\n",
    "'seresnet18',\n",
    "'seresnet34', \n",
    "'seresnet50',\n",
    "'seresnet101',\n",
    "'seresnet152',\n",
    "'seresnext50', \n",
    "'seresnext101', \n",
    "'senet154',\n",
    "\n",
    "'mobilenet',  \n",
    "'mobilenetv2',\n",
    "\n",
    "'efficientnetb0',\n",
    "'efficientnetb1',\n",
    "'efficientnetb2',\n",
    "'efficientnetb3',\n",
    "'efficientnetb4',\n",
    "'efficientnetb5',\n",
    "'efficientnetb6',\n",
    "'efficientnetb7',\n",
    "\n",
    "\n",
    "leakyRelu plugin получился битый - вместо маски область с пикселями\n",
    "без замены слоя на плагин также получается конвертация\n",
    "В обоих случаях с leaky relu качество нормальное только в tf, onnx - инференсе\n",
    "TensorRT дает nans в масках"
   ]
  },
  {
   "cell_type": "code",
   "execution_count": null,
   "metadata": {},
   "outputs": [],
   "source": []
  },
  {
   "cell_type": "code",
   "execution_count": null,
   "metadata": {},
   "outputs": [],
   "source": []
  },
  {
   "cell_type": "code",
   "execution_count": null,
   "metadata": {},
   "outputs": [],
   "source": []
  },
  {
   "cell_type": "code",
   "execution_count": null,
   "metadata": {},
   "outputs": [],
   "source": []
  }
 ],
 "metadata": {
  "kernelspec": {
   "display_name": "Python 3",
   "language": "python",
   "name": "python3"
  },
  "language_info": {
   "codemirror_mode": {
    "name": "ipython",
    "version": 3
   },
   "file_extension": ".py",
   "mimetype": "text/x-python",
   "name": "python",
   "nbconvert_exporter": "python",
   "pygments_lexer": "ipython3",
   "version": "3.7.7"
  }
 },
 "nbformat": 4,
 "nbformat_minor": 4
}
